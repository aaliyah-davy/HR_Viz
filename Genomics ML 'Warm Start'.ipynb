{
 "cells": [
  {
   "cell_type": "markdown",
   "id": "6d7737d2",
   "metadata": {},
   "source": [
    "# Genomics Machine Learning Model For Pathogens"
   ]
  },
  {
   "cell_type": "code",
   "execution_count": 211,
   "id": "911caee8",
   "metadata": {},
   "outputs": [],
   "source": [
    "import numpy as np\n",
    "import pandas as pd\n",
    "import matplotlib.pyplot as plt\n",
    "import re\n",
    "import Bio\n",
    "from Bio import SeqIO\n",
    "import squiggle\n",
    "import squigglepy\n",
    "import seaborn as sns\n",
    "import scipy.stats as ss\n",
    "from pathlib import Path \n",
    "import warnings\n",
    "warnings.filterwarnings('ignore')"
   ]
  },
  {
   "cell_type": "code",
   "execution_count": 3,
   "id": "192a2bb2",
   "metadata": {},
   "outputs": [],
   "source": [
    "con_path = '/Users/aaliyahdavy/Documents/Data_Science_Portfolio/Genomics/genomics_data/control.csv'\n",
    "orig_path = '/Users/aaliyahdavy/Documents/Data_Science_Portfolio/Genomics/genomics_data/CNEO_orig_sequence.csv'\n",
    "grubii_path = '/Users/aaliyahdavy/Documents/Data_Science_Portfolio/Genomics/genomics_data/CNEO_var_grubii_sequence.csv'\n",
    "XL280_path = '/Users/aaliyahdavy/Documents/Data_Science_Portfolio/Genomics/genomics_data/CNEO_XL280_chr4_sequence.csv'\n",
    "H99_path = '/Users/aaliyahdavy/Documents/Data_Science_Portfolio/Genomics/genomics_data/CNEO_H99_mitochondria_sequence.csv'"
   ]
  },
  {
   "cell_type": "markdown",
   "id": "39e94e3f",
   "metadata": {},
   "source": [
    "# Our Strains At A Glance"
   ]
  },
  {
   "cell_type": "code",
   "execution_count": 115,
   "id": "989b8274",
   "metadata": {},
   "outputs": [
    {
     "data": {
      "text/html": [
       "<div>\n",
       "<style scoped>\n",
       "    .dataframe tbody tr th:only-of-type {\n",
       "        vertical-align: middle;\n",
       "    }\n",
       "\n",
       "    .dataframe tbody tr th {\n",
       "        vertical-align: top;\n",
       "    }\n",
       "\n",
       "    .dataframe thead th {\n",
       "        text-align: right;\n",
       "    }\n",
       "</style>\n",
       "<table border=\"1\" class=\"dataframe\">\n",
       "  <thead>\n",
       "    <tr style=\"text-align: right;\">\n",
       "      <th></th>\n",
       "      <th>id</th>\n",
       "      <th>seq</th>\n",
       "    </tr>\n",
       "  </thead>\n",
       "  <tbody>\n",
       "    <tr>\n",
       "      <th>1</th>\n",
       "      <td>CONTROL</td>\n",
       "      <td>CCTACTCTAAAGAGATTTGCAGTTGCGATGAGAAGCTTACCTCGAG...</td>\n",
       "    </tr>\n",
       "  </tbody>\n",
       "</table>\n",
       "</div>"
      ],
      "text/plain": [
       "        id                                                seq\n",
       "1  CONTROL  CCTACTCTAAAGAGATTTGCAGTTGCGATGAGAAGCTTACCTCGAG..."
      ]
     },
     "execution_count": 115,
     "metadata": {},
     "output_type": "execute_result"
    }
   ],
   "source": [
    "con_df = pd.read_csv(con_path) #formatting control\n",
    "con_df = con_df.drop('Y', axis=1)\n",
    "df_con = pd.DataFrame(con_df.loc[0])\n",
    "df_con.reset_index(inplace=True)\n",
    "con_df = df_con\n",
    "con_df = con_df.replace({'DNA':'CONTROL'}, regex=True)\n",
    "con_df = con_df.drop(index=0,axis=0)\n",
    "con_df.rename(columns={'index':'id',0:'seq'}, inplace=True)\n",
    "con_df"
   ]
  },
  {
   "cell_type": "code",
   "execution_count": 5,
   "id": "9d2363ba",
   "metadata": {},
   "outputs": [
    {
     "data": {
      "text/html": [
       "<div>\n",
       "<style scoped>\n",
       "    .dataframe tbody tr th:only-of-type {\n",
       "        vertical-align: middle;\n",
       "    }\n",
       "\n",
       "    .dataframe tbody tr th {\n",
       "        vertical-align: top;\n",
       "    }\n",
       "\n",
       "    .dataframe thead th {\n",
       "        text-align: right;\n",
       "    }\n",
       "</style>\n",
       "<table border=\"1\" class=\"dataframe\">\n",
       "  <thead>\n",
       "    <tr style=\"text-align: right;\">\n",
       "      <th></th>\n",
       "      <th>id</th>\n",
       "      <th>seq</th>\n",
       "    </tr>\n",
       "  </thead>\n",
       "  <tbody>\n",
       "    <tr>\n",
       "      <th>0</th>\n",
       "      <td>CNEO</td>\n",
       "      <td>GAATTCTAAAACAGTTGCATTCTATAATTACAAAATAATTGAAACA...</td>\n",
       "    </tr>\n",
       "  </tbody>\n",
       "</table>\n",
       "</div>"
      ],
      "text/plain": [
       "      id                                                seq\n",
       "0   CNEO  GAATTCTAAAACAGTTGCATTCTATAATTACAAAATAATTGAAACA..."
      ]
     },
     "execution_count": 5,
     "metadata": {},
     "output_type": "execute_result"
    }
   ],
   "source": [
    "orig_df = pd.read_csv(orig_path) #formatting CNEO (original strain)\n",
    "orig_df.reset_index(inplace=True)\n",
    "orig_df = orig_df.drop('index', axis=1)\n",
    "orig_df = orig_df.replace({'whole genome shotgun sequence':'CNEO'}, regex=True)\n",
    "orig_df"
   ]
  },
  {
   "cell_type": "code",
   "execution_count": 6,
   "id": "874d7836",
   "metadata": {},
   "outputs": [
    {
     "data": {
      "text/html": [
       "<div>\n",
       "<style scoped>\n",
       "    .dataframe tbody tr th:only-of-type {\n",
       "        vertical-align: middle;\n",
       "    }\n",
       "\n",
       "    .dataframe tbody tr th {\n",
       "        vertical-align: top;\n",
       "    }\n",
       "\n",
       "    .dataframe thead th {\n",
       "        text-align: right;\n",
       "    }\n",
       "</style>\n",
       "<table border=\"1\" class=\"dataframe\">\n",
       "  <thead>\n",
       "    <tr style=\"text-align: right;\">\n",
       "      <th></th>\n",
       "      <th>id</th>\n",
       "      <th>seq</th>\n",
       "    </tr>\n",
       "  </thead>\n",
       "  <tbody>\n",
       "    <tr>\n",
       "      <th>0</th>\n",
       "      <td>GRUBII</td>\n",
       "      <td>TCCTCCGACACCACGCCAGGTCCATGCCGAACCAGTTGCGTGCTCC...</td>\n",
       "    </tr>\n",
       "  </tbody>\n",
       "</table>\n",
       "</div>"
      ],
      "text/plain": [
       "        id                                                seq\n",
       "0   GRUBII  TCCTCCGACACCACGCCAGGTCCATGCCGAACCAGTTGCGTGCTCC..."
      ]
     },
     "execution_count": 6,
     "metadata": {},
     "output_type": "execute_result"
    }
   ],
   "source": [
    "grubii_df = pd.read_csv(grubii_path) #formatting CNEO (original strain)\n",
    "grubii_df.reset_index(inplace=True)\n",
    "grubii_df = grubii_df.drop('index', axis=1)\n",
    "grubii_df = grubii_df.replace({'whole genome shotgun sequence':'GRUBII'}, regex=True)\n",
    "grubii_df"
   ]
  },
  {
   "cell_type": "code",
   "execution_count": 7,
   "id": "08402fe0",
   "metadata": {},
   "outputs": [
    {
     "data": {
      "text/html": [
       "<div>\n",
       "<style scoped>\n",
       "    .dataframe tbody tr th:only-of-type {\n",
       "        vertical-align: middle;\n",
       "    }\n",
       "\n",
       "    .dataframe tbody tr th {\n",
       "        vertical-align: top;\n",
       "    }\n",
       "\n",
       "    .dataframe thead th {\n",
       "        text-align: right;\n",
       "    }\n",
       "</style>\n",
       "<table border=\"1\" class=\"dataframe\">\n",
       "  <thead>\n",
       "    <tr style=\"text-align: right;\">\n",
       "      <th></th>\n",
       "      <th>id</th>\n",
       "      <th>seq</th>\n",
       "    </tr>\n",
       "  </thead>\n",
       "  <tbody>\n",
       "    <tr>\n",
       "      <th>0</th>\n",
       "      <td>XL280</td>\n",
       "      <td>TAACCCCCTAACCCCCTAACCCCCTAACCCCCTAACCCCCTAACCC...</td>\n",
       "    </tr>\n",
       "  </tbody>\n",
       "</table>\n",
       "</div>"
      ],
      "text/plain": [
       "       id                                                seq\n",
       "0   XL280  TAACCCCCTAACCCCCTAACCCCCTAACCCCCTAACCCCCTAACCC..."
      ]
     },
     "execution_count": 7,
     "metadata": {},
     "output_type": "execute_result"
    }
   ],
   "source": [
    "XL280_df = pd.read_csv(XL280_path) #formatting CNEO (original strain)\n",
    "XL280_df.reset_index(inplace=True)\n",
    "XL280_df = XL280_df.drop('index', axis=1)\n",
    "XL280_df = XL280_df.replace({'whole genome shotgun sequence':'XL280'}, regex=True)\n",
    "XL280_df"
   ]
  },
  {
   "cell_type": "code",
   "execution_count": 8,
   "id": "32a3429e",
   "metadata": {},
   "outputs": [
    {
     "data": {
      "text/html": [
       "<div>\n",
       "<style scoped>\n",
       "    .dataframe tbody tr th:only-of-type {\n",
       "        vertical-align: middle;\n",
       "    }\n",
       "\n",
       "    .dataframe tbody tr th {\n",
       "        vertical-align: top;\n",
       "    }\n",
       "\n",
       "    .dataframe thead th {\n",
       "        text-align: right;\n",
       "    }\n",
       "</style>\n",
       "<table border=\"1\" class=\"dataframe\">\n",
       "  <thead>\n",
       "    <tr style=\"text-align: right;\">\n",
       "      <th></th>\n",
       "      <th>id</th>\n",
       "      <th>seq</th>\n",
       "    </tr>\n",
       "  </thead>\n",
       "  <tbody>\n",
       "    <tr>\n",
       "      <th>0</th>\n",
       "      <td>H99</td>\n",
       "      <td>ATTAAAAATATCATAAAAAATGGCTATTCTAACATCACTATATAAT...</td>\n",
       "    </tr>\n",
       "  </tbody>\n",
       "</table>\n",
       "</div>"
      ],
      "text/plain": [
       "     id                                                seq\n",
       "0   H99  ATTAAAAATATCATAAAAAATGGCTATTCTAACATCACTATATAAT..."
      ]
     },
     "execution_count": 8,
     "metadata": {},
     "output_type": "execute_result"
    }
   ],
   "source": [
    "H99_df = pd.read_csv(H99_path) #formatting CNEO (original strain)\n",
    "H99_df.reset_index(inplace=True)\n",
    "H99_df = H99_df.drop('index', axis=1)\n",
    "H99_df = H99_df.replace({'complete genome':'H99'}, regex=True)\n",
    "H99_df"
   ]
  },
  {
   "cell_type": "code",
   "execution_count": 9,
   "id": "ee7a1567",
   "metadata": {},
   "outputs": [
    {
     "data": {
      "text/html": [
       "<div>\n",
       "<style scoped>\n",
       "    .dataframe tbody tr th:only-of-type {\n",
       "        vertical-align: middle;\n",
       "    }\n",
       "\n",
       "    .dataframe tbody tr th {\n",
       "        vertical-align: top;\n",
       "    }\n",
       "\n",
       "    .dataframe thead th {\n",
       "        text-align: right;\n",
       "    }\n",
       "</style>\n",
       "<table border=\"1\" class=\"dataframe\">\n",
       "  <thead>\n",
       "    <tr style=\"text-align: right;\">\n",
       "      <th></th>\n",
       "      <th>id</th>\n",
       "      <th>seq</th>\n",
       "    </tr>\n",
       "    <tr>\n",
       "      <th>index</th>\n",
       "      <th></th>\n",
       "      <th></th>\n",
       "    </tr>\n",
       "  </thead>\n",
       "  <tbody>\n",
       "    <tr>\n",
       "      <th>0</th>\n",
       "      <td>CONTROL</td>\n",
       "      <td>CCTACTCTAAAGAGATTTGCAGTTGCGATGAGAAGCTTACCTCGAG...</td>\n",
       "    </tr>\n",
       "    <tr>\n",
       "      <th>1</th>\n",
       "      <td>GRUBII</td>\n",
       "      <td>TCCTCCGACACCACGCCAGGTCCATGCCGAACCAGTTGCGTGCTCC...</td>\n",
       "    </tr>\n",
       "    <tr>\n",
       "      <th>2</th>\n",
       "      <td>CNEO</td>\n",
       "      <td>GAATTCTAAAACAGTTGCATTCTATAATTACAAAATAATTGAAACA...</td>\n",
       "    </tr>\n",
       "    <tr>\n",
       "      <th>3</th>\n",
       "      <td>XL280</td>\n",
       "      <td>TAACCCCCTAACCCCCTAACCCCCTAACCCCCTAACCCCCTAACCC...</td>\n",
       "    </tr>\n",
       "    <tr>\n",
       "      <th>4</th>\n",
       "      <td>H99</td>\n",
       "      <td>ATTAAAAATATCATAAAAAATGGCTATTCTAACATCACTATATAAT...</td>\n",
       "    </tr>\n",
       "  </tbody>\n",
       "</table>\n",
       "</div>"
      ],
      "text/plain": [
       "            id                                                seq\n",
       "index                                                            \n",
       "0      CONTROL  CCTACTCTAAAGAGATTTGCAGTTGCGATGAGAAGCTTACCTCGAG...\n",
       "1       GRUBII  TCCTCCGACACCACGCCAGGTCCATGCCGAACCAGTTGCGTGCTCC...\n",
       "2         CNEO  GAATTCTAAAACAGTTGCATTCTATAATTACAAAATAATTGAAACA...\n",
       "3        XL280  TAACCCCCTAACCCCCTAACCCCCTAACCCCCTAACCCCCTAACCC...\n",
       "4          H99  ATTAAAAATATCATAAAAAATGGCTATTCTAACATCACTATATAAT..."
      ]
     },
     "execution_count": 9,
     "metadata": {},
     "output_type": "execute_result"
    }
   ],
   "source": [
    "ALL_df = pd.DataFrame(data=(con_df))\n",
    "ALL1_df = pd.concat([grubii_df,orig_df]) \n",
    "ALL2_df = pd.concat([XL280_df, H99_df]) \n",
    "ALL_df = pd.concat([ALL_df,ALL1_df ]) \n",
    "ALL_df = pd.concat([ALL_df,ALL2_df ]) \n",
    "idx = [0,1,2,3,4]\n",
    "ALL_df['index'] = idx\n",
    "ALL_df.set_index('index')"
   ]
  },
  {
   "cell_type": "markdown",
   "id": "45cb6b1e",
   "metadata": {},
   "source": [
    "# Prep For Visualization"
   ]
  },
  {
   "cell_type": "code",
   "execution_count": 12,
   "id": "6ee496fd",
   "metadata": {},
   "outputs": [],
   "source": [
    "filepath = Path('/Users/aaliyahdavy/Documents/Data_Science_Portfolio/Genomics/genomics_data/ALL_df.csv')  \n",
    "filepath.parent.mkdir(parents=True, exist_ok=True)  \n",
    "ALL_df.to_csv(filepath)"
   ]
  },
  {
   "cell_type": "code",
   "execution_count": 191,
   "id": "a9a3998a",
   "metadata": {
    "scrolled": false
   },
   "outputs": [
    {
     "data": {
      "text/plain": [
       "array([['CONTROL',\n",
       "        'CCTACTCTAAAGAGATTTGCAGTTGCGATGAGAAGCTTACCTCGAGAACCTAGTATGATGGAATTCATTGAAAGAACGTGATAAAAGTGAGATCCAATGGAATTATGAACGTTCAATTAACCGAAAATAAAGCTGCTAATGTTCTATTC']],\n",
       "      dtype=object)"
      ]
     },
     "execution_count": 191,
     "metadata": {},
     "output_type": "execute_result"
    }
   ],
   "source": [
    "con_dfa = con_df.to_numpy()\n",
    "con_dfa[:,:]"
   ]
  },
  {
   "cell_type": "code",
   "execution_count": 117,
   "id": "fa933e52",
   "metadata": {},
   "outputs": [],
   "source": [
    "for sequence in SeqIO.parse(con_path, 'fasta'):\n",
    "    con_seq_id = sequence.id\n",
    "    con_seq = sequence.seq\n",
    "    con_len_seq = len(sequence)"
   ]
  },
  {
   "cell_type": "code",
   "execution_count": 201,
   "id": "d3a00442",
   "metadata": {},
   "outputs": [],
   "source": [
    "for sequence in SeqIO.parse(orig_path, 'fasta'):\n",
    "    orig_seq_id = sequence.id\n",
    "    orig_seq = sequence.seq\n",
    "    orig_len_seq = len(sequence)"
   ]
  },
  {
   "cell_type": "code",
   "execution_count": 198,
   "id": "28a2e79c",
   "metadata": {},
   "outputs": [],
   "source": [
    "for sequence in SeqIO.parse(grubii_path, 'fasta'):\n",
    "    grubii_seq_id = sequence.id\n",
    "    grubii_seq = sequence.seq\n",
    "    grubii_len_seq = len(sequence)"
   ]
  },
  {
   "cell_type": "code",
   "execution_count": 199,
   "id": "a415c0fc",
   "metadata": {},
   "outputs": [],
   "source": [
    "for sequence in SeqIO.parse(XL280_path, 'fasta'):\n",
    "    XL280_seq_id = sequence.id\n",
    "    XL280_seq = sequence.seq\n",
    "    XL280_len_seq = len(sequence)"
   ]
  },
  {
   "cell_type": "code",
   "execution_count": 200,
   "id": "a28d2239",
   "metadata": {},
   "outputs": [],
   "source": [
    "for sequence in SeqIO.parse(H99_path, 'fasta'):\n",
    "    H99_seq_id = sequence.id\n",
    "    H99_seq = sequence.seq\n",
    "    H99_len_seq = len(sequence)"
   ]
  },
  {
   "cell_type": "code",
   "execution_count": 18,
   "id": "f1a2449a",
   "metadata": {},
   "outputs": [],
   "source": [
    "ALL_path = '/Users/aaliyahdavy/Documents/Data_Science_Portfolio/Genomics/genomics_data/ALL_df.fasta'\n",
    "for sequence in SeqIO.parse(ALL_path, 'fasta'):\n",
    "    ALL_seq_id = sequence.id\n",
    "    ALL_seq = sequence.seq\n",
    "    ALL_len_seq = len(sequence)"
   ]
  },
  {
   "cell_type": "code",
   "execution_count": 104,
   "id": "ae29f60d",
   "metadata": {},
   "outputs": [
    {
     "data": {
      "image/png": "[encoded data removed]",
      "text/plain": [
       "<Figure size 640x480 with 1 Axes>"
      ]
     },
     "metadata": {},
     "output_type": "display_data"
    },
    {
     "name": "stdout",
     "output_type": "stream",
     "text": [
      "   0    1    2    3    4    5    6    7    8    9    ...   165   166   167   \n",
      "0  0.0  0.5  1.0  1.5  2.0  2.5  3.0  3.5  4.0  4.5  ...  82.5  83.0  83.5  \\\n",
      "1  0.0  0.0  0.0  0.0  0.0  0.0  0.0  0.0  0.0  0.0  ...  -2.0  -2.0  -1.5   \n",
      "\n",
      "    168   169   170   171   172   173   174  \n",
      "0  84.0  84.5  85.0  85.5  86.0  86.5  87.0  \n",
      "1  -2.0  -2.0  -2.0  -2.5  -3.0  -2.5  -3.0  \n",
      "\n",
      "[2 rows x 175 columns]\n"
     ]
    }
   ],
   "source": [
    "sq_ALL = squiggle.squiggle.transform(ALL_path, bar=False) # converts DNA sequences to vectors\n",
    "x_ALL = sq_ALL[0]\n",
    "y_ALL = sq_ALL[1]\n",
    "plt.scatter(x_ALL,y_ALL)\n",
    "plt.show()"
   ]
  },
  {
   "cell_type": "code",
   "execution_count": 23,
   "id": "4c50ed16",
   "metadata": {},
   "outputs": [
    {
     "data": {
      "image/png": "[encoded data removed]",
      "text/plain": [
       "<Figure size 500x500 with 1 Axes>"
      ]
     },
     "metadata": {},
     "output_type": "display_data"
    }
   ],
   "source": [
    "sns.relplot(ALL_y) # demonstrating what Squiggle does in terms of graphing \n",
    "plt.show()     # (but Squiggle also allows you to travel the vectors it creates of your DNA)"
   ]
  },
  {
   "cell_type": "code",
   "execution_count": 20,
   "id": "3559c004",
   "metadata": {},
   "outputs": [
    {
     "data": {
      "image/png": "[encoded data removed]",
      "text/plain": [
       "<Figure size 640x480 with 1 Axes>"
      ]
     },
     "metadata": {},
     "output_type": "display_data"
    }
   ],
   "source": [
    "sq_con = squiggle.squiggle.transform(con_path, bar=False) \n",
    "x_con = sq_con[0]\n",
    "y_con = sq_con[1]\n",
    "plt.scatter(x_con,y_con)\n",
    "plt.show()"
   ]
  },
  {
   "cell_type": "code",
   "execution_count": 105,
   "id": "a2a674c2",
   "metadata": {},
   "outputs": [],
   "source": [
    "sq_orig = squiggle.squiggle.transform(orig_path, bar=False)\n",
    "x_orig = sq_orig[0]\n",
    "y_orig = sq_orig[1]\n",
    "sq_grubii = squiggle.squiggle.transform(grubii_path, bar=False)\n",
    "x_grubii = sq_grubii[0]\n",
    "y_grubii = sq_grubii[1]\n",
    "sq_H99 = squiggle.squiggle.transform(H99_path, bar=False)\n",
    "x_H99 = sq_H99[0]\n",
    "y_H99 = sq_H99[1]\n",
    "sq_XL280 = squiggle.squiggle.transform(XL280_path, bar=False)\n",
    "x_XL280 = sq_XL280[0]"
   ]
  },
  {
   "cell_type": "markdown",
   "id": "6b5cf69c",
   "metadata": {},
   "source": [
    "# CORRELATION MATRICES FOR EACH STRAIN:"
   ]
  },
  {
   "cell_type": "code",
   "execution_count": 93,
   "id": "6b4c6747",
   "metadata": {},
   "outputs": [
    {
     "name": "stdout",
     "output_type": "stream",
     "text": [
      "Control vs CNEO\n",
      " [[1.         0.92677091]\n",
      " [0.92677091 1.        ]]\n",
      "\n",
      "Control vs GRUBII\n",
      " [[1.         0.92677091]\n",
      " [0.92677091 1.        ]]\n",
      "\n",
      "Control vs H99\n",
      " [[1.         0.92677091]\n",
      " [0.92677091 1.        ]]\n",
      "\n",
      "Control vs XL280\n",
      " [[1.         0.92677091]\n",
      " [0.92677091 1.        ]]\n",
      "\n",
      "Control vs ALL (which includes control)\n",
      " [[1.         0.96358145]\n",
      " [0.96358145 1.        ]]\n"
     ]
    }
   ],
   "source": [
    "y_orig_rz = y_orig[0:173]\n",
    "print('Control vs CNEO\\n',np.corrcoef(y_con,y_orig_rz))\n",
    "y_grubii_rz = y_grubii[0:173]\n",
    "print('\\nControl vs GRUBII\\n',np.corrcoef(y_con,y_orig_rz))\n",
    "y_H99_rz = y_H99[0:173]\n",
    "print('\\nControl vs H99\\n',np.corrcoef(y_con,y_orig_rz))\n",
    "y_XL280_rz = y_XL280[0:173]\n",
    "print('\\nControl vs XL280\\n',np.corrcoef(y_con,y_orig_rz))\n",
    "y_ALL_rz = y_ALL[0:173]\n",
    "print('\\nControl vs ALL (which includes control)\\n',np.corrcoef(y_con,y_ALL_rz))"
   ]
  },
  {
   "cell_type": "code",
   "execution_count": 78,
   "id": "eb787de4",
   "metadata": {},
   "outputs": [
    {
     "name": "stdout",
     "output_type": "stream",
     "text": [
      "CNEO vs GRUBII\n",
      " [[1.         0.99360374]\n",
      " [0.99360374 1.        ]]\n",
      "\n",
      "CNEO vs H99\n",
      " [[1.         0.82169058]\n",
      " [0.82169058 1.        ]]\n",
      "\n",
      "CNEO vs XL280\n",
      " [[1.         0.93668579]\n",
      " [0.93668579 1.        ]]\n",
      "\n",
      "CNEO vs ALL\n",
      " [[1.         0.95543891]\n",
      " [0.95543891 1.        ]]\n"
     ]
    }
   ],
   "source": [
    "y_grubii_rz = y_grubii[0:195]\n",
    "print('CNEO vs GRUBII\\n',np.corrcoef(y_orig,y_grubii_rz))\n",
    "y_H99_rz = y_H99[0:195]\n",
    "print('\\nCNEO vs H99\\n',np.corrcoef(y_orig,y_H99_rz))\n",
    "y_XL280_rz = y_XL280[0:195]\n",
    "print('\\nCNEO vs XL280\\n',np.corrcoef(y_orig,y_XL280_rz))\n",
    "y_orig_rz = y_orig[0:175]\n",
    "print('\\nCNEO vs ALL\\n',np.corrcoef(y_orig_rz,y_ALL))"
   ]
  },
  {
   "cell_type": "code",
   "execution_count": 85,
   "id": "e8d778ca",
   "metadata": {},
   "outputs": [
    {
     "name": "stdout",
     "output_type": "stream",
     "text": [
      "GRUBII vs H99\n",
      " [[1.         0.76160227]\n",
      " [0.76160227 1.        ]]\n",
      "\n",
      "GRUBII vs XL280\n",
      " [[1.         0.91607449]\n",
      " [0.91607449 1.        ]]\n",
      "\n",
      "GRUBII vs ALL\n",
      " [[1.         0.95856702]\n",
      " [0.95856702 1.        ]]\n"
     ]
    }
   ],
   "source": [
    "y_H99_rz = y_H99[0:207]\n",
    "print('GRUBII vs H99\\n',np.corrcoef(y_grubii,y_H99_rz))\n",
    "print('\\nGRUBII vs XL280\\n',np.corrcoef(y_grubii,y_XL280))\n",
    "y_grubii_rz = y_grubii[0:175]\n",
    "print('\\nGRUBII vs ALL\\n',np.corrcoef(y_grubii_rz,y_ALL))"
   ]
  },
  {
   "cell_type": "code",
   "execution_count": 91,
   "id": "f311fafc",
   "metadata": {},
   "outputs": [
    {
     "name": "stdout",
     "output_type": "stream",
     "text": [
      "H99 vs XL280\n",
      " [[1.         0.95087699]\n",
      " [0.95087699 1.        ]]\n",
      "\n",
      "H99 vs ALL\n",
      " [[1.         0.99315634]\n",
      " [0.99315634 1.        ]]\n"
     ]
    }
   ],
   "source": [
    "y_H99_rz = y_H99[0:207]\n",
    "print('H99 vs XL280\\n',np.corrcoef(y_H99_rz,y_XL280))\n",
    "y_H99_rz2 = y_H99[0:175]\n",
    "print('\\nH99 vs ALL\\n',np.corrcoef(y_H99_rz2,y_ALL))"
   ]
  },
  {
   "cell_type": "code",
   "execution_count": 86,
   "id": "6d9c285d",
   "metadata": {},
   "outputs": [
    {
     "name": "stdout",
     "output_type": "stream",
     "text": [
      "\n",
      "XL280 vs ALL\n",
      " [[1.         0.91607449]\n",
      " [0.91607449 1.        ]]\n"
     ]
    }
   ],
   "source": [
    "print('\\nXL280 vs ALL\\n',np.corrcoef(y_grubii,y_XL280))"
   ]
  },
  {
   "cell_type": "markdown",
   "id": "e992793c",
   "metadata": {},
   "source": [
    "For convenience: all corrcoeff's \n",
    "(y_con,y_orig_rz)\n",
    "(y_con,y_orig_rz)\n",
    "(y_con,y_orig_rz)\n",
    "(y_con,y_orig_rz)\n",
    "(y_con,y_ALL_rz)\n",
    "(y_orig,y_grubii_rz)\n",
    "(y_orig,y_H99_rz)\n",
    "(y_orig,y_XL280_rz)\n",
    "(y_orig_rz,y_ALL)\n",
    "(y_grubii,y_H99_rz)\n",
    "(y_grubii,y_XL280)\n",
    "(y_grubii_rz,y_ALL)\n",
    "(y_H99_rz,y_XL280)\n",
    "(y_H99_rz2,y_ALL)\n",
    "(y_grubii,y_XL280)\n"
   ]
  },
  {
   "cell_type": "code",
   "execution_count": 110,
   "id": "e3e1a2e6",
   "metadata": {},
   "outputs": [
    {
     "data": {
      "text/html": [
       "<style>#sk-container-id-1 {color: black;background-color: white;}#sk-container-id-1 pre{padding: 0;}#sk-container-id-1 div.sk-toggleable {background-color: white;}#sk-container-id-1 label.sk-toggleable__label {cursor: pointer;display: block;width: 100%;margin-bottom: 0;padding: 0.3em;box-sizing: border-box;text-align: center;}#sk-container-id-1 label.sk-toggleable__label-arrow:before {content: \"▸\";float: left;margin-right: 0.25em;color: #696969;}#sk-container-id-1 label.sk-toggleable__label-arrow:hover:before {color: black;}#sk-container-id-1 div.sk-estimator:hover label.sk-toggleable__label-arrow:before {color: black;}#sk-container-id-1 div.sk-toggleable__content {max-height: 0;max-width: 0;overflow: hidden;text-align: left;background-color: #f0f8ff;}#sk-container-id-1 div.sk-toggleable__content pre {margin: 0.2em;color: black;border-radius: 0.25em;background-color: #f0f8ff;}#sk-container-id-1 input.sk-toggleable__control:checked~div.sk-toggleable__content {max-height: 200px;max-width: 100%;overflow: auto;}#sk-container-id-1 input.sk-toggleable__control:checked~label.sk-toggleable__label-arrow:before {content: \"▾\";}#sk-container-id-1 div.sk-estimator input.sk-toggleable__control:checked~label.sk-toggleable__label {background-color: #d4ebff;}#sk-container-id-1 div.sk-label input.sk-toggleable__control:checked~label.sk-toggleable__label {background-color: #d4ebff;}#sk-container-id-1 input.sk-hidden--visually {border: 0;clip: rect(1px 1px 1px 1px);clip: rect(1px, 1px, 1px, 1px);height: 1px;margin: -1px;overflow: hidden;padding: 0;position: absolute;width: 1px;}#sk-container-id-1 div.sk-estimator {font-family: monospace;background-color: #f0f8ff;border: 1px dotted black;border-radius: 0.25em;box-sizing: border-box;margin-bottom: 0.5em;}#sk-container-id-1 div.sk-estimator:hover {background-color: #d4ebff;}#sk-container-id-1 div.sk-parallel-item::after {content: \"\";width: 100%;border-bottom: 1px solid gray;flex-grow: 1;}#sk-container-id-1 div.sk-label:hover label.sk-toggleable__label {background-color: #d4ebff;}#sk-container-id-1 div.sk-serial::before {content: \"\";position: absolute;border-left: 1px solid gray;box-sizing: border-box;top: 0;bottom: 0;left: 50%;z-index: 0;}#sk-container-id-1 div.sk-serial {display: flex;flex-direction: column;align-items: center;background-color: white;padding-right: 0.2em;padding-left: 0.2em;position: relative;}#sk-container-id-1 div.sk-item {position: relative;z-index: 1;}#sk-container-id-1 div.sk-parallel {display: flex;align-items: stretch;justify-content: center;background-color: white;position: relative;}#sk-container-id-1 div.sk-item::before, #sk-container-id-1 div.sk-parallel-item::before {content: \"\";position: absolute;border-left: 1px solid gray;box-sizing: border-box;top: 0;bottom: 0;left: 50%;z-index: -1;}#sk-container-id-1 div.sk-parallel-item {display: flex;flex-direction: column;z-index: 1;position: relative;background-color: white;}#sk-container-id-1 div.sk-parallel-item:first-child::after {align-self: flex-end;width: 50%;}#sk-container-id-1 div.sk-parallel-item:last-child::after {align-self: flex-start;width: 50%;}#sk-container-id-1 div.sk-parallel-item:only-child::after {width: 0;}#sk-container-id-1 div.sk-dashed-wrapped {border: 1px dashed gray;margin: 0 0.4em 0.5em 0.4em;box-sizing: border-box;padding-bottom: 0.4em;background-color: white;}#sk-container-id-1 div.sk-label label {font-family: monospace;font-weight: bold;display: inline-block;line-height: 1.2em;}#sk-container-id-1 div.sk-label-container {text-align: center;}#sk-container-id-1 div.sk-container {/* jupyter's `normalize.less` sets `[hidden] { display: none; }` but bootstrap.min.css set `[hidden] { display: none !important; }` so we also need the `!important` here to be able to override the default hidden behavior on the sphinx rendered scikit-learn.org. See: https://github.com/scikit-learn/scikit-learn/issues/21755 */display: inline-block !important;position: relative;}#sk-container-id-1 div.sk-text-repr-fallback {display: none;}</style><div id=\"sk-container-id-1\" class=\"sk-top-container\"><div class=\"sk-text-repr-fallback\"><pre>LabelEncoder()</pre><b>In a Jupyter environment, please rerun this cell to show the HTML representation or trust the notebook. <br />On GitHub, the HTML representation is unable to render, please try loading this page with nbviewer.org.</b></div><div class=\"sk-container\" hidden><div class=\"sk-item\"><div class=\"sk-estimator sk-toggleable\"><input class=\"sk-toggleable__control sk-hidden--visually\" id=\"sk-estimator-id-1\" type=\"checkbox\" checked><label for=\"sk-estimator-id-1\" class=\"sk-toggleable__label sk-toggleable__label-arrow\">LabelEncoder</label><div class=\"sk-toggleable__content\"><pre>LabelEncoder()</pre></div></div></div></div></div>"
      ],
      "text/plain": [
       "LabelEncoder()"
      ]
     },
     "execution_count": 110,
     "metadata": {},
     "output_type": "execute_result"
    }
   ],
   "source": [
    "import numpy as np\n",
    "import re\n",
    "def string_to_array(seq_string):\n",
    "   seq_string = seq_string.lower()\n",
    "   seq_string = re.sub('[^acgt]', 'n', seq_string)\n",
    "   seq_string = np.array(list(seq_string))\n",
    "   return seq_string\n",
    "# create a label encoder with 'acgtn' alphabet\n",
    "from sklearn.preprocessing import LabelEncoder\n",
    "label_encoder = LabelEncoder()\n",
    "label_encoder.fit(np.array(['a','c','g','t','z']))"
   ]
  },
  {
   "cell_type": "code",
   "execution_count": 111,
   "id": "393fc8d0",
   "metadata": {},
   "outputs": [],
   "source": [
    "def ordinal_encoder(my_array):\n",
    "   integer_encoded = label_encoder.transform(my_array)\n",
    "   float_encoded = integer_encoded.astype(float)\n",
    "   float_encoded[float_encoded == 0] = 0.25 # A\n",
    "   float_encoded[float_encoded == 1] = 0.50 # C\n",
    "   float_encoded[float_encoded == 2] = 0.75 # G\n",
    "   float_encoded[float_encoded == 3] = 1.00 # T\n",
    "   float_encoded[float_encoded == 4] = 0.00 # anything else, lets say n\n",
    "   return float_encoded"
   ]
  },
  {
   "cell_type": "code",
   "execution_count": 57,
   "id": "42007411",
   "metadata": {},
   "outputs": [
    {
     "data": {
      "text/plain": [
       "array([0.5 , 0.5 , 1.  , 0.25, 0.5 , 1.  , 0.5 , 1.  , 0.25, 0.25, 0.25,\n",
       "       0.75, 0.25, 0.75, 0.25, 1.  , 1.  , 1.  , 0.75, 0.5 , 0.25, 0.75,\n",
       "       1.  , 1.  , 0.75, 0.5 , 0.75, 0.25, 1.  , 0.75, 0.25, 0.75, 0.25,\n",
       "       0.25, 0.75, 0.5 , 1.  , 1.  , 0.25, 0.5 , 0.5 , 1.  , 0.5 , 0.75,\n",
       "       0.25, 0.75, 0.25, 0.25, 0.5 , 0.5 , 1.  , 0.25, 0.75, 1.  , 0.25,\n",
       "       1.  , 0.75, 0.25, 1.  , 0.75, 0.75, 0.25, 0.25, 1.  , 1.  , 0.5 ,\n",
       "       0.25, 1.  , 1.  , 0.75, 0.25, 0.25, 0.25, 0.75, 0.25, 0.25, 0.5 ,\n",
       "       0.75, 1.  , 0.75, 0.25, 1.  , 0.25, 0.25, 0.25, 0.25, 0.75, 1.  ,\n",
       "       0.75, 0.25, 0.75, 0.25, 1.  , 0.5 , 0.5 , 0.25, 0.25, 1.  , 0.75,\n",
       "       0.75, 0.25, 0.25, 1.  , 1.  , 0.25, 1.  , 0.75, 0.25, 0.25, 0.5 ,\n",
       "       0.75, 1.  , 1.  , 0.5 , 0.25, 0.25, 1.  , 1.  , 0.25, 0.25, 0.5 ,\n",
       "       0.5 , 0.75, 0.25, 0.25, 0.25, 0.25, 1.  , 0.25, 0.25, 0.25, 0.75,\n",
       "       0.5 , 1.  , 0.75, 0.5 , 1.  , 0.25, 0.25, 1.  , 0.75, 1.  , 1.  ,\n",
       "       0.5 , 1.  , 0.25, 1.  , 1.  , 0.5 ])"
      ]
     },
     "execution_count": 57,
     "metadata": {},
     "output_type": "execute_result"
    }
   ],
   "source": [
    "ordinal_encoder(string_to_array(str0))"
   ]
  },
  {
   "cell_type": "markdown",
   "id": "b43800e1",
   "metadata": {},
   "source": [
    "# Create Function For Model"
   ]
  },
  {
   "cell_type": "code",
   "execution_count": 113,
   "id": "2802430a",
   "metadata": {},
   "outputs": [],
   "source": [
    "def Kmers_funct(seq, size):\n",
    "   return [seq[x:x+size].lower() for x in range(len(seq) - size + 1)]"
   ]
  },
  {
   "cell_type": "code",
   "execution_count": null,
   "id": "e72daeec",
   "metadata": {},
   "outputs": [],
   "source": [
    "con_seq = con_df.iloc[0,1]\n",
    "k_con_seq = Kmers_funct(con_seq,size=4)\n",
    "pd.DataFrame(k_con_seq)\n",
    "\n",
    "orig_seq = orig_df.iloc[0,1]\n",
    "k_orig_seq = Kmers_funct(orig_seq,size=4)\n",
    "pd.DataFrame(k_orig_seq)\n",
    "\n",
    "grubii_seq = grubii_df.iloc[0,1]\n",
    "k_grubii_seq = Kmers_funct(grubii_seq,size=4)\n",
    "pd.DataFrame(k_grubii_seq)\n",
    "\n",
    "H99_seq = H99_df.iloc[0,1]\n",
    "k_H99_seq = Kmers_funct(H99_seq,size=4)\n",
    "pd.DataFrame(k_H99_seq)\n",
    "\n",
    "XL280_seq = XL280_df.iloc[0,1]\n",
    "k_XL280_seq = Kmers_funct(XL280_seq,size=4)\n",
    "pd.DataFrame(k_XL280_seq)"
   ]
  },
  {
   "cell_type": "code",
   "execution_count": 220,
   "id": "ede16ff1",
   "metadata": {},
   "outputs": [
    {
     "name": "stdout",
     "output_type": "stream",
     "text": [
      "        id                                              words\n",
      "1  CONTROL  [cctact, ctactc, tactct, actcta, ctctaa, tctaa...\n",
      "      id                                              words\n",
      "0   CNEO  [gaattc, aattct, attcta, ttctaa, tctaaa, ctaaa...\n",
      "        id                                              words\n",
      "0   GRUBII  [tcctcc, cctccg, ctccga, tccgac, ccgaca, cgaca...\n",
      "     id                                              words\n",
      "0   H99  [attaaa, ttaaaa, taaaaa, aaaaat, aaaata, aaata...\n",
      "       id                                              words\n",
      "0   XL280  [taaccc, aacccc, accccc, ccccct, ccccta, cccta...\n"
     ]
    }
   ],
   "source": [
    "k_con_df = con_df\n",
    "k_con_df['words'] = k_con_df.apply(lambda x: Kmers_funct(x['seq'],size=6), axis=1)\n",
    "k_con_df = k_con_df.drop('seq', axis=1)\n",
    "print(k_con_df.head())\n",
    "\n",
    "k_orig_df = orig_df\n",
    "k_orig_df['words'] = k_orig_df.apply(lambda x: Kmers_funct(x['seq'],size=6), axis=1)\n",
    "k_orig_df = k_orig_df.drop('seq', axis=1)\n",
    "print(k_orig_df.head())\n",
    "\n",
    "k_grubii_df = grubii_df\n",
    "k_grubii_df['words'] = k_grubii_df.apply(lambda x: Kmers_funct(x['seq'],size=6), axis=1)\n",
    "k_grubii_df = k_grubii_df.drop('seq', axis=1)\n",
    "print(k_grubii_df.head())\n",
    "\n",
    "k_H99_df = H99_df\n",
    "k_H99_df['words'] = k_H99_df.apply(lambda x: Kmers_funct(x['seq'],size=6), axis=1)\n",
    "k_H99_df = k_H99_df.drop('seq', axis=1)\n",
    "print(k_H99_df.head())\n",
    "\n",
    "k_XL280_df = XL280_df\n",
    "k_XL280_df['words'] = k_XL280_df.apply(lambda x: Kmers_funct(x['seq'],size=6), axis=1)\n",
    "k_XL280_df = k_XL280_df.drop('seq', axis=1)\n",
    "print(k_XL280_df.head())"
   ]
  },
  {
   "cell_type": "code",
   "execution_count": 200,
   "id": "a08c236d",
   "metadata": {},
   "outputs": [],
   "source": [
    "import random\n",
    "\n",
    "k_con_texts = list(k_con_df['words'])\n",
    "for item in range(len(k_con_texts)):\n",
    "   k_con_texts[item] = ' '.join(k_con_texts[item])\n",
    "k_y_con = np.random.randint(1,10,size=141)\n",
    "\n",
    "k_orig_texts = list(k_orig_df['words'])\n",
    "for item in range(len(k_orig_texts)):\n",
    "   k_orig_texts[item] = ' '.join(k_orig_texts[item])\n",
    "k_y_orig = np.random.randint(1,10,size=141)\n",
    "\n",
    "k_grubii_texts = list(k_grubii_df['words'])\n",
    "for item in range(len(k_grubii_texts)):\n",
    "   k_grubii_texts[item] = ' '.join(k_grubii_texts[item])\n",
    "k_y_grubii = np.random.randint(1,10,size=141)\n",
    "\n",
    "k_H99_texts = list(k_H99_df['words'])\n",
    "for item in range(len(k_H99_texts)):\n",
    "   k_H99_texts[item] = ' '.join(k_H99_texts[item])\n",
    "k_y_H99 = np.random.randint(1,10,size=141)\n",
    "\n",
    "k_XL280_texts = list(k_XL280_df['words'])\n",
    "for item in range(len(k_XL280_texts)):\n",
    "   k_XL280_texts[item] = ' '.join(k_XL280_texts[item])\n",
    "k_y_XL280 = np.random.randint(1,10,size=141)"
   ]
  },
  {
   "cell_type": "code",
   "execution_count": 225,
   "id": "2990d135",
   "metadata": {},
   "outputs": [],
   "source": [
    "from sklearn.feature_extraction.text import CountVectorizer\n",
    "cv = CountVectorizer(ngram_range=(4,4)) #The n-gram size of 4 is previously determined by testing\n",
    "k_X_con = cv.fit_transform(k_con_texts)\n",
    "k_X_orig = cv.transform(k_orig_texts)\n",
    "k_X_grubii = cv.transform(k_grubii_texts)\n",
    "k_X_H99 = cv.transform(k_H99_texts)\n",
    "k_X_XL280 = cv.transform(k_XL280_texts)"
   ]
  },
  {
   "cell_type": "markdown",
   "id": "79332db8",
   "metadata": {},
   "source": [
    "# Check shape of X's and Y's"
   ]
  },
  {
   "cell_type": "code",
   "execution_count": 202,
   "id": "1cd133e7",
   "metadata": {},
   "outputs": [
    {
     "name": "stdout",
     "output_type": "stream",
     "text": [
      "(1, 141)\n",
      "(1, 141)\n",
      "(1, 141)\n",
      "(1, 141)\n",
      "(1, 141)\n",
      "(141,)\n",
      "(141,)\n",
      "(141,)\n",
      "(141,)\n",
      "(141,)\n"
     ]
    }
   ],
   "source": [
    "print(k_X_con.shape)\n",
    "print(k_X_orig.shape)\n",
    "print(k_X_grubii.shape)\n",
    "print(k_X_H99.shape)\n",
    "print(k_X_XL280.shape)\n",
    "\n",
    "print(k_y_con.shape)\n",
    "print(k_y_orig.shape)\n",
    "print(k_y_grubii.shape)\n",
    "print(k_y_H99.shape)\n",
    "print(k_y_XL280.shape)"
   ]
  },
  {
   "cell_type": "markdown",
   "id": "aea6c5a5",
   "metadata": {},
   "source": [
    "# Transpose the X's to match the Y's"
   ]
  },
  {
   "cell_type": "code",
   "execution_count": 230,
   "id": "b5b845ef",
   "metadata": {},
   "outputs": [
    {
     "name": "stdout",
     "output_type": "stream",
     "text": [
      "(141, 1)\n",
      "(141, 1)\n",
      "(141, 1)\n",
      "(141, 1)\n",
      "(141, 1)\n"
     ]
    }
   ],
   "source": [
    "k_X_con = k_X_con.transpose()\n",
    "print(k_X_con.shape)\n",
    "k_X_orig = k_X_orig.transpose()\n",
    "print(k_X_orig.shape)\n",
    "k_X_grubii = k_X_grubii.transpose()\n",
    "print(k_X_grubii.shape)\n",
    "k_X_H99 = k_X_H99.transpose()\n",
    "print(k_X_H99.shape)\n",
    "k_X_XL280 = k_X_XL280.transpose()\n",
    "print(k_X_XL280.shape)"
   ]
  },
  {
   "cell_type": "markdown",
   "id": "6a72fbea",
   "metadata": {},
   "source": [
    "# Split to Train and Test, then Build Model"
   ]
  },
  {
   "cell_type": "code",
   "execution_count": 221,
   "id": "00789f33",
   "metadata": {},
   "outputs": [
    {
     "data": {
      "text/html": [
       "<style>#sk-container-id-3 {color: black;background-color: white;}#sk-container-id-3 pre{padding: 0;}#sk-container-id-3 div.sk-toggleable {background-color: white;}#sk-container-id-3 label.sk-toggleable__label {cursor: pointer;display: block;width: 100%;margin-bottom: 0;padding: 0.3em;box-sizing: border-box;text-align: center;}#sk-container-id-3 label.sk-toggleable__label-arrow:before {content: \"▸\";float: left;margin-right: 0.25em;color: #696969;}#sk-container-id-3 label.sk-toggleable__label-arrow:hover:before {color: black;}#sk-container-id-3 div.sk-estimator:hover label.sk-toggleable__label-arrow:before {color: black;}#sk-container-id-3 div.sk-toggleable__content {max-height: 0;max-width: 0;overflow: hidden;text-align: left;background-color: #f0f8ff;}#sk-container-id-3 div.sk-toggleable__content pre {margin: 0.2em;color: black;border-radius: 0.25em;background-color: #f0f8ff;}#sk-container-id-3 input.sk-toggleable__control:checked~div.sk-toggleable__content {max-height: 200px;max-width: 100%;overflow: auto;}#sk-container-id-3 input.sk-toggleable__control:checked~label.sk-toggleable__label-arrow:before {content: \"▾\";}#sk-container-id-3 div.sk-estimator input.sk-toggleable__control:checked~label.sk-toggleable__label {background-color: #d4ebff;}#sk-container-id-3 div.sk-label input.sk-toggleable__control:checked~label.sk-toggleable__label {background-color: #d4ebff;}#sk-container-id-3 input.sk-hidden--visually {border: 0;clip: rect(1px 1px 1px 1px);clip: rect(1px, 1px, 1px, 1px);height: 1px;margin: -1px;overflow: hidden;padding: 0;position: absolute;width: 1px;}#sk-container-id-3 div.sk-estimator {font-family: monospace;background-color: #f0f8ff;border: 1px dotted black;border-radius: 0.25em;box-sizing: border-box;margin-bottom: 0.5em;}#sk-container-id-3 div.sk-estimator:hover {background-color: #d4ebff;}#sk-container-id-3 div.sk-parallel-item::after {content: \"\";width: 100%;border-bottom: 1px solid gray;flex-grow: 1;}#sk-container-id-3 div.sk-label:hover label.sk-toggleable__label {background-color: #d4ebff;}#sk-container-id-3 div.sk-serial::before {content: \"\";position: absolute;border-left: 1px solid gray;box-sizing: border-box;top: 0;bottom: 0;left: 50%;z-index: 0;}#sk-container-id-3 div.sk-serial {display: flex;flex-direction: column;align-items: center;background-color: white;padding-right: 0.2em;padding-left: 0.2em;position: relative;}#sk-container-id-3 div.sk-item {position: relative;z-index: 1;}#sk-container-id-3 div.sk-parallel {display: flex;align-items: stretch;justify-content: center;background-color: white;position: relative;}#sk-container-id-3 div.sk-item::before, #sk-container-id-3 div.sk-parallel-item::before {content: \"\";position: absolute;border-left: 1px solid gray;box-sizing: border-box;top: 0;bottom: 0;left: 50%;z-index: -1;}#sk-container-id-3 div.sk-parallel-item {display: flex;flex-direction: column;z-index: 1;position: relative;background-color: white;}#sk-container-id-3 div.sk-parallel-item:first-child::after {align-self: flex-end;width: 50%;}#sk-container-id-3 div.sk-parallel-item:last-child::after {align-self: flex-start;width: 50%;}#sk-container-id-3 div.sk-parallel-item:only-child::after {width: 0;}#sk-container-id-3 div.sk-dashed-wrapped {border: 1px dashed gray;margin: 0 0.4em 0.5em 0.4em;box-sizing: border-box;padding-bottom: 0.4em;background-color: white;}#sk-container-id-3 div.sk-label label {font-family: monospace;font-weight: bold;display: inline-block;line-height: 1.2em;}#sk-container-id-3 div.sk-label-container {text-align: center;}#sk-container-id-3 div.sk-container {/* jupyter's `normalize.less` sets `[hidden] { display: none; }` but bootstrap.min.css set `[hidden] { display: none !important; }` so we also need the `!important` here to be able to override the default hidden behavior on the sphinx rendered scikit-learn.org. See: https://github.com/scikit-learn/scikit-learn/issues/21755 */display: inline-block !important;position: relative;}#sk-container-id-3 div.sk-text-repr-fallback {display: none;}</style><div id=\"sk-container-id-3\" class=\"sk-top-container\"><div class=\"sk-text-repr-fallback\"><pre>MultinomialNB(alpha=0.2)</pre><b>In a Jupyter environment, please rerun this cell to show the HTML representation or trust the notebook. <br />On GitHub, the HTML representation is unable to render, please try loading this page with nbviewer.org.</b></div><div class=\"sk-container\" hidden><div class=\"sk-item\"><div class=\"sk-estimator sk-toggleable\"><input class=\"sk-toggleable__control sk-hidden--visually\" id=\"sk-estimator-id-3\" type=\"checkbox\" checked><label for=\"sk-estimator-id-3\" class=\"sk-toggleable__label sk-toggleable__label-arrow\">MultinomialNB</label><div class=\"sk-toggleable__content\"><pre>MultinomialNB(alpha=0.2)</pre></div></div></div></div></div>"
      ],
      "text/plain": [
       "MultinomialNB(alpha=0.2)"
      ]
     },
     "execution_count": 221,
     "metadata": {},
     "output_type": "execute_result"
    }
   ],
   "source": [
    "from sklearn.model_selection import train_test_split\n",
    "\n",
    "con_X_train, con_X_test, con_y_train, con_y_test = train_test_split(k_X_con, \n",
    "                                                                    k_y_con, \n",
    "                                                                    test_size = 0.20,\n",
    "                                                                    random_state=42)\n",
    "                                                   \n",
    "### Multinomial Naive Bayes Classifier ###\n",
    "from sklearn.naive_bayes import MultinomialNB\n",
    "classifier = MultinomialNB(alpha=0.2)\n",
    "classifier.fit(con_X_train, con_y_train)"
   ]
  },
  {
   "cell_type": "code",
   "execution_count": 222,
   "id": "ab8a9620",
   "metadata": {},
   "outputs": [],
   "source": [
    "con_y_pred = classifier.predict(con_X_test)"
   ]
  },
  {
   "cell_type": "code",
   "execution_count": 223,
   "id": "e8895459",
   "metadata": {},
   "outputs": [
    {
     "name": "stdout",
     "output_type": "stream",
     "text": [
      "Confusion matrix for predictions on Control DNA sequence\n",
      "\n",
      "Predicted  5\n",
      "Actual      \n",
      "1          4\n",
      "2          1\n",
      "3          5\n",
      "4          5\n",
      "5          5\n",
      "6          2\n",
      "7          3\n",
      "9          4\n",
      "accuracy = 0.172 \n",
      "precision = 0.030 \n",
      "recall = 0.172 \n",
      "f1 = 0.051\n"
     ]
    }
   ],
   "source": [
    "from sklearn.metrics import accuracy_score, f1_score, precision_score, recall_score\n",
    "\n",
    "print(\"Confusion matrix for predictions on Control DNA sequence\\n\")\n",
    "\n",
    "print(pd.crosstab(pd.Series(con_y_test, name='Actual'), pd.Series(con_y_pred, name='Predicted')))\n",
    "\n",
    "def get_metrics(con_y_test, con_y_predicted):\n",
    "   accuracy = accuracy_score(con_y_test, con_y_predicted)\n",
    "   precision = precision_score(con_y_test, con_y_predicted, average='weighted')\n",
    "   recall = recall_score(con_y_test, con_y_predicted, average='weighted')\n",
    "   f1 = f1_score(con_y_test, con_y_predicted, average='weighted')\n",
    "   return accuracy, precision, recall, f1\n",
    "   \n",
    "accuracy, precision, recall, f1 = get_metrics(con_y_test, con_y_pred)\n",
    "\n",
    "print(\"accuracy = %.3f \\nprecision = %.3f \\nrecall = %.3f \\nf1 = %.3f\" % (accuracy, precision, recall, f1))"
   ]
  },
  {
   "cell_type": "markdown",
   "id": "15e4ca0f",
   "metadata": {},
   "source": [
    "# Predict The Other Strains"
   ]
  },
  {
   "cell_type": "code",
   "execution_count": 231,
   "id": "d315df35",
   "metadata": {},
   "outputs": [
    {
     "name": "stdout",
     "output_type": "stream",
     "text": [
      "Confusion matrix for predictions on CNEO DNA sequence\n",
      "\n",
      "Predicted   5\n",
      "Actual       \n",
      "1          14\n",
      "2          19\n",
      "3          15\n",
      "4          22\n",
      "5           9\n",
      "6          11\n",
      "7          18\n",
      "8          14\n",
      "9          19\n",
      "accuracy = 0.064 \n",
      "precision = 0.004 \n",
      "recall = 0.064 \n",
      "f1 = 0.008\n"
     ]
    }
   ],
   "source": [
    "y_pred_orig = classifier.predict(k_X_orig)\n",
    "print(\"Confusion matrix for predictions on CNEO DNA sequence\\n\")\n",
    "print(pd.crosstab(pd.Series(k_y_orig, name='Actual'), pd.Series(y_pred_orig, name='Predicted')))\n",
    "accuracy, precision, recall, f1 = get_metrics(k_y_orig, y_pred_orig)\n",
    "print(\"accuracy = %.3f \\nprecision = %.3f \\nrecall = %.3f \\nf1 = %.3f\" % (accuracy, precision, recall, f1))"
   ]
  },
  {
   "cell_type": "code",
   "execution_count": 232,
   "id": "0eb4d2cc",
   "metadata": {},
   "outputs": [
    {
     "name": "stdout",
     "output_type": "stream",
     "text": [
      "Confusion matrix for predictions on GRUBII DNA sequence\n",
      "\n",
      "Predicted   5\n",
      "Actual       \n",
      "1          20\n",
      "2          16\n",
      "3          14\n",
      "4          26\n",
      "5          13\n",
      "6          13\n",
      "7          11\n",
      "8          12\n",
      "9          16\n",
      "accuracy = 0.092 \n",
      "precision = 0.009 \n",
      "recall = 0.092 \n",
      "f1 = 0.016\n"
     ]
    }
   ],
   "source": [
    "y_pred_grubii = classifier.predict(k_X_grubii)\n",
    "print(\"Confusion matrix for predictions on GRUBII DNA sequence\\n\")\n",
    "print(pd.crosstab(pd.Series(k_y_grubii, name='Actual'), pd.Series(y_pred_grubii, name='Predicted')))\n",
    "accuracy, precision, recall, f1 = get_metrics(k_y_grubii, y_pred_grubii)\n",
    "print(\"accuracy = %.3f \\nprecision = %.3f \\nrecall = %.3f \\nf1 = %.3f\" % (accuracy, precision, recall, f1))"
   ]
  },
  {
   "cell_type": "code",
   "execution_count": 233,
   "id": "ddb085b1",
   "metadata": {},
   "outputs": [
    {
     "name": "stdout",
     "output_type": "stream",
     "text": [
      "Confusion matrix for predictions on H99 DNA sequence\n",
      "\n",
      "Predicted   5\n",
      "Actual       \n",
      "1          12\n",
      "2          21\n",
      "3          16\n",
      "4          13\n",
      "5          15\n",
      "6          19\n",
      "7          20\n",
      "8           9\n",
      "9          16\n",
      "accuracy = 0.106 \n",
      "precision = 0.011 \n",
      "recall = 0.106 \n",
      "f1 = 0.020\n"
     ]
    }
   ],
   "source": [
    "y_pred_H99 = classifier.predict(k_X_H99)\n",
    "print(\"Confusion matrix for predictions on H99 DNA sequence\\n\")\n",
    "print(pd.crosstab(pd.Series(k_y_H99, name='Actual'), pd.Series(y_pred_H99, name='Predicted')))\n",
    "accuracy, precision, recall, f1 = get_metrics(k_y_H99, y_pred_H99)\n",
    "print(\"accuracy = %.3f \\nprecision = %.3f \\nrecall = %.3f \\nf1 = %.3f\" % (accuracy, precision, recall, f1))"
   ]
  },
  {
   "cell_type": "code",
   "execution_count": 234,
   "id": "4fa8c046",
   "metadata": {},
   "outputs": [
    {
     "name": "stdout",
     "output_type": "stream",
     "text": [
      "Confusion matrix for predictions on XL280 DNA sequence\n",
      "\n",
      "Predicted   5\n",
      "Actual       \n",
      "1          15\n",
      "2          13\n",
      "3          19\n",
      "4          14\n",
      "5          19\n",
      "6          16\n",
      "7          14\n",
      "8          19\n",
      "9          12\n",
      "accuracy = 0.135 \n",
      "precision = 0.018 \n",
      "recall = 0.135 \n",
      "f1 = 0.032\n"
     ]
    }
   ],
   "source": [
    "y_pred_XL280 = classifier.predict(k_X_XL280)\n",
    "print(\"Confusion matrix for predictions on XL280 DNA sequence\\n\")\n",
    "print(pd.crosstab(pd.Series(k_y_XL280, name='Actual'), pd.Series(y_pred_XL280, name='Predicted')))\n",
    "accuracy, precision, recall, f1 = get_metrics(k_y_XL280, y_pred_XL280)\n",
    "print(\"accuracy = %.3f \\nprecision = %.3f \\nrecall = %.3f \\nf1 = %.3f\" % (accuracy, precision, recall, f1))"
   ]
  },
  {
   "cell_type": "markdown",
   "id": "933f33f1",
   "metadata": {},
   "source": [
    "# Citations:\n",
    "\n",
    "- @inproceedings{ren2019likelihood,\n",
    "  title={Likelihood ratios for out-of-distribution detection},\n",
    "  author={Ren, Jie and\n",
    "  Liu, Peter J and\n",
    "  Fertig, Emily and\n",
    "  Snoek, Jasper and\n",
    "  Poplin, Ryan and\n",
    "  Depristo, Mark and\n",
    "  Dillon, Joshua and\n",
    "  Lakshminarayanan, Balaji},\n",
    "  booktitle={Advances in Neural Information Processing Systems},\n",
    "  pages={14707--14718},\n",
    "  year={2019}\n",
    "}\n",
    "- AUTHORS   Parra,C.M.\n",
    "    - TITLE     Genome sequencing and assembly of 29 Colombian clinical isolates of\n",
    "            Cryptococcus neoformans\n",
    "- AUTHORS   Boyce,K.\n",
    "    - TITLE     Molecular mechanisms underlying the emergence of polygenetic\n",
    "            antifungal drug resistance in Cryptococcus\n",
    "- AUTHORS   Janbon,G., Ormerod,K.L., Paulet,D., Byrnes,E.J. III, Yadav,V.,\n",
    "            Chatterjee,G., Mullapudi,N., Hon,C.C., Billmyre,R.B., Brunel,F.,\n",
    "            Bahn,Y.S., Chen,W., Chen,Y., Chow,E.W., Coppee,J.Y.,\n",
    "            Floyd-Averette,A., Gaillardin,C., Gerik,K.J., Goldberg,J.,\n",
    "            Gonzalez-Hilarion,S., Gujja,S., Hamlin,J.L., Hsueh,Y.P., Ianiri,G.,\n",
    "            Jones,S., Kodira,C.D., Kozubowski,L., Lam,W., Marra,M.,\n",
    "            Mesner,L.D., Mieczkowski,P.A., Moyrand,F., Nielsen,K., Proux,C.,\n",
    "            Rossignol,T., Schein,J.E., Sun,S., Wollschlaeger,C., Wood,I.A.,\n",
    "            Zeng,Q., Neuveglise,C., Newlon,C.S., Perfect,J.R., Lodge,J.K.,\n",
    "            Idnurm,A., Stajich,J.E., Kronstad,J.W., Sanyal,K., Heitman,J.,\n",
    "            Fraser,J.A., Cuomo,C.A. and Dietrich,F.S.\n",
    "    - TITLE     Analysis of the Genome and Transcriptome of Cryptococcus neoformans\n",
    "            var. grubii Reveals Complex RNA Expression and Microevolution\n",
    "            Leading to Virulence Attenuation\n",
    "    - JOURNAL   PLoS Genet. 10 (4), E1004261 (2014)\n",
    "- AUTHORS   Ni,M., Feretzaki,M., Li,W., Floyd-Averette,A., Mieczkowski,P.,\n",
    "            Dietrich,F.S. and Heitman,J.\n",
    "     - TITLE     Unisexual and heterosexual meiotic reproduction generate aneuploidy\n",
    "            and phenotypic diversity de novo in the yeast Cryptococcus\n",
    "            neoformans\n",
    "     - JOURNAL   PLoS Biol. 11 (9), E1001653 (2013)\n",
    "     - PUBMED   24058295\n",
    "     - REFERENCE   2  (bases 1 to 1783052)\n",
    "- AUTHORS   Ni,M., Li,W., Floyd-Averette,A., Mieczkowski,P., Dietrich,F.S. and\n",
    "            Heitman,J.\n",
    "     - TITLE     Direct Submission\n",
    "     - JOURNAL   Submitted (13-FEB-2013) Molecular Genetics and Microbiology, Duke\n",
    "            University, 213 Research Dr. CARL Bldg., Room 315, Durham, NC\n",
    "            27710, USA\n",
    "- NAGESH SINGH CHAUHAN, https://github.com/nageshsinghc4/DNA-Sequence-Machine-learning.git\n",
    "            "
   ]
  }
 ],
 "metadata": {
  "kernelspec": {
   "display_name": "Python 3 (ipykernel)",
   "language": "python",
   "name": "python3"
  },
  "language_info": {
   "codemirror_mode": {
    "name": "ipython",
    "version": 3
   },
   "file_extension": ".py",
   "mimetype": "text/x-python",
   "name": "python",
   "nbconvert_exporter": "python",
   "pygments_lexer": "ipython3",
   "version": "3.11.3"
  }
 },
 "nbformat": 4,
 "nbformat_minor": 5
}
